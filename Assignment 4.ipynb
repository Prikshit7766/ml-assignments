{
 "cells": [
  {
   "cell_type": "markdown",
   "id": "86001495",
   "metadata": {},
   "source": [
    "1  What is the difference between a univariate and a multivariate function?\n",
    "\n",
    "Univariate involves the analysis of a single variable while multivariate analysis examines two or more variables. Most multivariate analysis involves a dependent variable and multiple independent variables.\n",
    "\n",
    "2  What are the various ways to check the applicability of a particular regression model on a dataset?\n",
    "\n",
    "For regression task  we are trying to predict continuous  numeric values  such as price, income, age, etc.\n",
    "\n",
    "3  What are the basic assumptions of the Linear Regression Algorithm?\n",
    "\n",
    "There are four assumptions associated with a linear regression model:\n",
    "\n",
    "Linearity: The relationship between X and the mean of Y is linear.\n",
    "\n",
    "Homoscedasticity: The variance of residual is the same for any value of X.\n",
    "\n",
    "Independence: Observations are independent of each other.\n",
    "\n",
    "Normality: For any fixed value of X, Y is normally distributed.\n",
    "\n",
    "4  What are the different Evaluation metrics used in Linear Regression?\n",
    "\n",
    "There are three error metrics that are commonly used for evaluating and reporting the performance of a regression model; they are: \n",
    "Mean Squared Error (MSE). \n",
    "Root Mean Squared Error (RMSE). \n",
    "Mean Absolute Error (MAE)\n",
    "\n",
    "5  Why do we square the residuals instead of the Modulus?\n",
    "\n",
    "Squaring always gives a positive value,so the sum will not be zero. 2. squaring emphasises large differences which makes and algebra much easier to work with and offers properties that the absolute method does not.\n",
    "\n",
    "6  Which evaluation metric should you prefer if you have a lot of outliers present in it?\n",
    "\n",
    "Mean Squared Error (MSE). \n",
    "\n",
    "\n"
   ]
  },
  {
   "cell_type": "markdown",
   "id": "8c4ef2fc",
   "metadata": {},
   "source": []
  }
 ],
 "metadata": {
  "kernelspec": {
   "display_name": "Python 3.7.13 ('base')",
   "language": "python",
   "name": "python3"
  },
  "language_info": {
   "codemirror_mode": {
    "name": "ipython",
    "version": 3
   },
   "file_extension": ".py",
   "mimetype": "text/x-python",
   "name": "python",
   "nbconvert_exporter": "python",
   "pygments_lexer": "ipython3",
   "version": "3.7.13"
  },
  "vscode": {
   "interpreter": {
    "hash": "b1e6b76b6e736d29445d5c5f779c1dafb0f59893c5766b7198bc0a87a8e7acf4"
   }
  }
 },
 "nbformat": 4,
 "nbformat_minor": 5
}
