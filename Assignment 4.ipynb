{
 "cells": [
  {
   "cell_type": "markdown",
   "id": "ba99cf8a",
   "metadata": {},
   "source": [
    "1. What is the difference between a univariate and a multivariate function?\n",
    "Univariate involves the analysis of a single variable while multivariate analysis examines two or more variables. Most multivariate analysis involves a dependent variable and multiple independent variables.\n",
    "2. What are the various ways to check the applicability of a particular regression\n",
    "model on a dataset?\n",
    "For regression task  we are trying to predict continuous  numeric values  such as price, income, age, etc.\n",
    "3. What are the basic assumptions of the Linear Regression Algorithm?\n",
    "There are four assumptions associated with a linear regression model:\n",
    "Linearity: The relationship between X and the mean of Y is linear.\n",
    "Homoscedasticity: The variance of residual is the same for any value of X.\n",
    "Independence: Observations are independent of each other.\n",
    "Normality: For any fixed value of X, Y is normally distributed.\n",
    "4. What are the different Evaluation metrics used in Linear Regression?\n",
    "There are three error metrics that are commonly used for evaluating and reporting the performance of a regression model; they are: \n",
    "Mean Squared Error (MSE). \n",
    "Root Mean Squared Error (RMSE). \n",
    "Mean Absolute Error (MAE)\n",
    "5. Why do we square the residuals instead of the Modulus?\n",
    "Squaring always gives a positive value,so the sum will not be zero. 2. squaring emphasises large differences which makes and algebra much easier to work with and offers properties that the absolute method does not.\n",
    "6. Which evaluation metric should you prefer if you have a lot of outliers present in\n",
    "it?\n",
    "Mean Squared Error (MSE). \n",
    "\n",
    "\n"
   ]
  }
 ],
 "metadata": {
  "kernelspec": {
   "display_name": "Python 3 (ipykernel)",
   "language": "python",
   "name": "python3"
  },
  "language_info": {
   "codemirror_mode": {
    "name": "ipython",
    "version": 3
   },
   "file_extension": ".py",
   "mimetype": "text/x-python",
   "name": "python",
   "nbconvert_exporter": "python",
   "pygments_lexer": "ipython3",
   "version": "3.7.13"
  }
 },
 "nbformat": 4,
 "nbformat_minor": 5
}
