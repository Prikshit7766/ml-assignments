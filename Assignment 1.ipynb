{
 "cells": [
  {
   "cell_type": "markdown",
   "id": "a86186c5",
   "metadata": {},
   "source": [
    "\n",
    "1 \tWhat type of Machine Learning Algorithms would be used to allow your bipedal bot to walk in various terrains?\n",
    "\n",
    "Reinforced Learning\n",
    "\n",
    "2 \tWhat is the difference between online learning and out-of-the-core learning?\n",
    "\n",
    "online machine learning is a method of machine learning in which data becomes available in a sequential order and is used to update the best predictor for future data at each step, as opposed to batch learning techniques which generate the best predictor by learning on the entire training data set at once.\n",
    "\n",
    "out-of-the-core learning – Out-of-core leanring refers to the machine learning algorithms working with data cannot fit into the memory of a single machine, but that can easily fit into some data storage such as local hard disk or web repository. \n",
    "\n",
    "3 \tWhat is the importance of a train-dev set in machine learning?\n",
    "\n",
    "Ans   The goal of dev-set is to rank the models in term of their accuracy and helps us decide which model to proceed further with. Using Dev set we rank all our models in terms of their accuracy and pick the best performing model.\n",
    "\n",
    "4 \tIf suppose your model is poorly generalizing the unseen data, what possibilities are there, and how you will solve those situations?\n",
    "\n",
    "k-fold cross validation\n",
    "Get more data\n",
    "Implement a simpler model\n",
    "Eliminate outliers or noise from the existing data set\n",
    "\n",
    "5 \tWhat is data leakage and what can go wrong if you tune your hyperparameters on the test set?\n",
    "\n",
    "Data leakage is when information from outside the training dataset is used to create the model. This additional information can allow the model to learn or know something that it otherwise would not know and in turn invalidate the estimated performance of the mode being constructed.\n",
    "Just try to check the commen things in between training and testing dataset\n",
    "\n",
    " If you tune hyperparameters using the test sets, then it may not perform well on the out-of-sample data because the model is tuned just for that specific set.\n",
    "\n",
    "\n",
    "\n"
   ]
  },
  {
   "cell_type": "code",
   "execution_count": null,
   "id": "433b263a",
   "metadata": {},
   "outputs": [],
   "source": []
  }
 ],
 "metadata": {
  "kernelspec": {
   "display_name": "Python 3 (ipykernel)",
   "language": "python",
   "name": "python3"
  },
  "language_info": {
   "codemirror_mode": {
    "name": "ipython",
    "version": 3
   },
   "file_extension": ".py",
   "mimetype": "text/x-python",
   "name": "python",
   "nbconvert_exporter": "python",
   "pygments_lexer": "ipython3",
   "version": "3.7.13"
  }
 },
 "nbformat": 4,
 "nbformat_minor": 5
}
